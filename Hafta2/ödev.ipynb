{
  "cells": [
    {
      "cell_type": "code",
      "execution_count": 16,
      "metadata": {
        "colab": {
          "base_uri": "https://localhost:8080/"
        },
        "id": "Ft-vqEiHNC2e",
        "outputId": "4de34cbe-4bd1-45fd-b731-fd44cb6a83e3"
      },
      "outputs": [
        {
          "name": "stdout",
          "output_type": "stream",
          "text": [
            " Hello Canim\n"
          ]
        }
      ],
      "source": [
        "print (\" Hello Canim\")"
      ]
    },
    {
      "cell_type": "code",
      "execution_count": 12,
      "metadata": {
        "colab": {
          "base_uri": "https://localhost:8080/"
        },
        "id": "J4T2vBvALG-V",
        "outputId": "adc9f453-5815-4035-804b-14192ff23874"
      },
      "outputs": [
        {
          "name": "stdout",
          "output_type": "stream",
          "text": [
            "Mavi\n"
          ]
        }
      ],
      "source": [
        "\n",
        "logo = \"Mavi\"\n",
        "print (logo)"
      ]
    },
    {
      "cell_type": "code",
      "execution_count": 33,
      "metadata": {
        "colab": {
          "base_uri": "https://localhost:8080/"
        },
        "id": "Y7MxBK3zMTVm",
        "outputId": "727298d7-113b-4d47-a2c9-37f7ab2d7602"
      },
      "outputs": [
        {
          "name": "stdout",
          "output_type": "stream",
          "text": [
            "r bilgisi giriniz 3\n",
            "28.259999999999998\n"
          ]
        }
      ],
      "source": [
        "pi = 3.14\n",
        "r = int(input(\"r bilgisi giriniz \"))\n",
        "islem = pi*r*r\n",
        "print (islem)"
      ]
    },
    {
      "cell_type": "code",
      "execution_count": 26,
      "metadata": {
        "colab": {
          "base_uri": "https://localhost:8080/"
        },
        "id": "S5P_caGmNOPY",
        "outputId": "257b848c-e20f-476b-a94b-09dae0d49155"
      },
      "outputs": [
        {
          "name": "stdout",
          "output_type": "stream",
          "text": [
            "[1, 2, 3, 4, 5]\n",
            "[5, 4, 3, 2, 1]\n"
          ]
        }
      ],
      "source": [
        "x = [5,4,3,2,1]\n",
        "y = [1,2,3,4,5]\n",
        "\n",
        "x.reverse()\n",
        "print (x)\n",
        "y.reverse()\n",
        "print (y)\n"
      ]
    },
    {
      "cell_type": "code",
      "execution_count": 27,
      "metadata": {
        "colab": {
          "base_uri": "https://localhost:8080/"
        },
        "id": "wol6ldEUPPLC",
        "outputId": "36a3677b-6666-4957-8046-b319f9225d39"
      },
      "outputs": [
        {
          "data": {
            "text/plain": [
              "1"
            ]
          },
          "execution_count": 27,
          "metadata": {},
          "output_type": "execute_result"
        }
      ],
      "source": [
        "(5-3) // 2"
      ]
    },
    {
      "cell_type": "code",
      "execution_count": 28,
      "metadata": {
        "colab": {
          "base_uri": "https://localhost:8080/"
        },
        "id": "rkrDZrSNP5t8",
        "outputId": "85a23ec8-349d-4adf-f285-0ca1f2609ace"
      },
      "outputs": [
        {
          "data": {
            "text/plain": [
              "0"
            ]
          },
          "execution_count": 28,
          "metadata": {},
          "output_type": "execute_result"
        }
      ],
      "source": [
        "8-(3*2)-(1+1)"
      ]
    },
    {
      "cell_type": "code",
      "execution_count": 32,
      "metadata": {
        "colab": {
          "base_uri": "https://localhost:8080/"
        },
        "id": "aMWRmvk2QSKz",
        "outputId": "ac1d2860-bb39-4823-da59-ac66ad305ec7"
      },
      "outputs": [
        {
          "data": {
            "text/plain": [
              "1"
            ]
          },
          "execution_count": 32,
          "metadata": {},
          "output_type": "execute_result"
        }
      ],
      "source": [
        "n = 91\n",
        "n%3"
      ]
    }
  ],
  "metadata": {
    "colab": {
      "provenance": []
    },
    "kernelspec": {
      "display_name": "Python 3",
      "language": "python",
      "name": "python3"
    },
    "language_info": {
      "name": "python",
      "version": "3.11.1"
    },
    "vscode": {
      "interpreter": {
        "hash": "aee8b7b246df8f9039afb4144a1f6fd8d2ca17a180786b69acc140d282b71a49"
      }
    }
  },
  "nbformat": 4,
  "nbformat_minor": 0
}
