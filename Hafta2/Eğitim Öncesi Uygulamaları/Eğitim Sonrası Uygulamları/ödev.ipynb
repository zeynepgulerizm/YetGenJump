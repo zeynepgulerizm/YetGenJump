{
  "nbformat": 4,
  "nbformat_minor": 0,
  "metadata": {
    "colab": {
      "provenance": []
    },
    "kernelspec": {
      "name": "python3",
      "display_name": "Python 3"
    },
    "language_info": {
      "name": "python"
    }
  },
  "cells": [
    {
      "cell_type": "code",
      "source": [
        "print (\" Hello Canim\")"
      ],
      "metadata": {
        "colab": {
          "base_uri": "https://localhost:8080/"
        },
        "id": "Ft-vqEiHNC2e",
        "outputId": "4de34cbe-4bd1-45fd-b731-fd44cb6a83e3"
      },
      "execution_count": 16,
      "outputs": [
        {
          "output_type": "stream",
          "name": "stdout",
          "text": [
            " Hello Canim\n"
          ]
        }
      ]
    },
    {
      "cell_type": "code",
      "execution_count": 12,
      "metadata": {
        "colab": {
          "base_uri": "https://localhost:8080/"
        },
        "id": "J4T2vBvALG-V",
        "outputId": "adc9f453-5815-4035-804b-14192ff23874"
      },
      "outputs": [
        {
          "output_type": "stream",
          "name": "stdout",
          "text": [
            "Mavi\n"
          ]
        }
      ],
      "source": [
        "\n",
        "logo = \"Mavi\"\n",
        "print (logo)"
      ]
    },
    {
      "cell_type": "code",
      "source": [
        "pi = 3.14\n",
        "r = int(input(\"r bilgisi giriniz \"))\n",
        "islem = pi*r*r\n",
        "print (islem)"
      ],
      "metadata": {
        "colab": {
          "base_uri": "https://localhost:8080/"
        },
        "id": "Y7MxBK3zMTVm",
        "outputId": "727298d7-113b-4d47-a2c9-37f7ab2d7602"
      },
      "execution_count": 33,
      "outputs": [
        {
          "output_type": "stream",
          "name": "stdout",
          "text": [
            "r bilgisi giriniz 3\n",
            "28.259999999999998\n"
          ]
        }
      ]
    },
    {
      "cell_type": "code",
      "source": [
        "x = [5,4,3,2,1]\n",
        "y = [1,2,3,4,5]\n",
        "\n",
        "x.reverse()\n",
        "print (x)\n",
        "y.reverse()\n",
        "print (y)\n"
      ],
      "metadata": {
        "colab": {
          "base_uri": "https://localhost:8080/"
        },
        "id": "S5P_caGmNOPY",
        "outputId": "257b848c-e20f-476b-a94b-09dae0d49155"
      },
      "execution_count": 26,
      "outputs": [
        {
          "output_type": "stream",
          "name": "stdout",
          "text": [
            "[1, 2, 3, 4, 5]\n",
            "[5, 4, 3, 2, 1]\n"
          ]
        }
      ]
    },
    {
      "cell_type": "code",
      "source": [
        "(5-3) // 2"
      ],
      "metadata": {
        "colab": {
          "base_uri": "https://localhost:8080/"
        },
        "id": "wol6ldEUPPLC",
        "outputId": "36a3677b-6666-4957-8046-b319f9225d39"
      },
      "execution_count": 27,
      "outputs": [
        {
          "output_type": "execute_result",
          "data": {
            "text/plain": [
              "1"
            ]
          },
          "metadata": {},
          "execution_count": 27
        }
      ]
    },
    {
      "cell_type": "code",
      "source": [
        "8-(3*2)-(1+1)"
      ],
      "metadata": {
        "colab": {
          "base_uri": "https://localhost:8080/"
        },
        "id": "rkrDZrSNP5t8",
        "outputId": "85a23ec8-349d-4adf-f285-0ca1f2609ace"
      },
      "execution_count": 28,
      "outputs": [
        {
          "output_type": "execute_result",
          "data": {
            "text/plain": [
              "0"
            ]
          },
          "metadata": {},
          "execution_count": 28
        }
      ]
    },
    {
      "cell_type": "code",
      "source": [
        "n = 91\n",
        "n%3"
      ],
      "metadata": {
        "colab": {
          "base_uri": "https://localhost:8080/"
        },
        "id": "aMWRmvk2QSKz",
        "outputId": "ac1d2860-bb39-4823-da59-ac66ad305ec7"
      },
      "execution_count": 32,
      "outputs": [
        {
          "output_type": "execute_result",
          "data": {
            "text/plain": [
              "1"
            ]
          },
          "metadata": {},
          "execution_count": 32
        }
      ]
    }
  ]
}