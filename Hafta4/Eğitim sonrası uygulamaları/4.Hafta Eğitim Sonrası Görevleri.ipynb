{
 "cells": [
  {
   "cell_type": "markdown",
   "metadata": {},
   "source": [
    "# Problem 1\n",
    "`ogrenciler` adında bir sözlük oluşturunuz. Kullanıcıdan döngü yardımıyla 3 öğrenci için veri girmesini isteyerek öğrencilerin sırasıyla okul numarası, isim, soy isim, telefon numarası ve doğum tarihi bilgilerini alınız. Aldığınız öğrenci bilgilerini yine aynı döngü yardımıyla `ogrenciler` adındaki sözlükte saklayınız. Daha sonra öğrenci bilgilerinin bulunduğu sözlük yapısını ekrana bastırınız.\n",
    "\n"
   ]
  },
  {
   "cell_type": "code",
   "execution_count": 2,
   "metadata": {},
   "outputs": [
    {
     "name": "stdout",
     "output_type": "stream",
     "text": [
      "{'1': ['z', 'g', '05345674732', '1', '19.2.2000']}\n",
      "{'1': ['z', 'g', '05345674732', '1', '19.2.2000'], '2': ['a', 'n', '05456789043', '2', '21.10.2000']}\n",
      "{'1': ['z', 'g', '05345674732', '1', '19.2.2000'], '2': ['a', 'n', '05456789043', '2', '21.10.2000'], '3': ['o', 'k', '05345432341', '3', '25.1.2000']}\n"
     ]
    }
   ],
   "source": [
    "dictionary = {}\n",
    "\n",
    "for i in range (3):\n",
    "    okulNo = input (\"Okul no giriniz:\")\n",
    "    isim = input (\"İsim giriniz:\")\n",
    "    soyisim = input (\"Soyisim giriniz:\")\n",
    "    dogum = input (\"Doğum tarihi giriniz:\")\n",
    "    telefon = input (\"Telefon no giriniz:\")\n",
    "    liste = [isim, soyisim, telefon, okulNo, dogum]\n",
    "    dictionary [okulNo] = liste\n",
    "    \n",
    "    print (dictionary)\n",
    "    \n",
    "    "
   ]
  },
  {
   "cell_type": "markdown",
   "metadata": {},
   "source": [
    "# Problem 2\n",
    "\n",
    "### a - Biraz ısınarak başlayalım!\n",
    "\n",
    "```\n",
    "numbers = [5,10,10,15,15,15,20,20,20,20]\n",
    "```\n",
    "\n",
    "Yukarıda `numbers` adında 10 elemanlı bir liste verilmiştir. Bu listenin her elemanını kontrol eden ve tekrar eden elemanları bir kez olacak şekilde başka bir listeye kopyalayan bir program yazınız. Son olarak oluşturduğunuz listeyi ekrana bastırınız.\n",
    "\n",
    "\n",
    "\n",
    "\n",
    "```\n",
    ">Output\n",
    "[5, 10, 15, 20]\n",
    "```\n"
   ]
  },
  {
   "cell_type": "code",
   "execution_count": 40,
   "metadata": {},
   "outputs": [
    {
     "name": "stdout",
     "output_type": "stream",
     "text": [
      "{10, 20, 15}\n"
     ]
    }
   ],
   "source": [
    "numbers = [5,10,10,15,15,15,20,20,20,20]\n",
    "liste1 = []\n",
    "listeTekrar =[]\n",
    "for sayi in numbers:\n",
    "    if sayi not in liste1:\n",
    "        liste1.append (sayi)\n",
    "    else:\n",
    "       listeTekrar.append (sayi)\n",
    "\n",
    "print (set (listeTekrar))\n",
    "# 5 sayısı tekrar eden bir sayı olmadığından tekrar eden sayılar çıktısında yok, soruyu bu şekilde anladığımdan outputta 5 olmamalı.\n"
   ]
  },
  {
   "cell_type": "markdown",
   "metadata": {},
   "source": [
    "### 🌶️ b) Hadi işi biraz daha zorlaştıralım! \n",
    "\n",
    "\n",
    "Şimdiyse senden `numbers` isimli listedeki tekrar eden elemanları `repeatNumbers` adındaki listeye; tekrar etmeyen elemanları `uniqueNumbers`adındaki listeye kopyalayan yazmanı ve listeleri ekrana bastırmanı bekliyoruz\n",
    "\n",
    "```\n",
    ">Output\n",
    "Tekrar Eden Elemanlar: [10, 10, 15, 15, 15, 20, 20, 20, 20]\n",
    "Tekrar Etmeyen Elemanlar: [5]\n",
    "```"
   ]
  },
  {
   "cell_type": "code",
   "execution_count": 54,
   "metadata": {},
   "outputs": [
    {
     "name": "stdout",
     "output_type": "stream",
     "text": [
      "Tekrar eden elemanlar: [10, 10, 15, 15, 15, 20, 20, 20, 20]\n",
      "Tekrar etmeyen elemanlar : [5]\n"
     ]
    }
   ],
   "source": [
    "numbers = [5,10,10,15,15,15,20,20,20,20]\n",
    "uniqueNumbers = []\n",
    "repeatNumbers =[]\n",
    "for sayi in numbers:\n",
    "    if sayi not in uniqueNumbers:\n",
    "        uniqueNumbers.append (sayi)\n",
    "    elif sayi in uniqueNumbers:\n",
    "       repeatNumbers.append (sayi)\n",
    "    if sayi in uniqueNumbers and sayi in repeatNumbers:\n",
    "        uniqueNumbers.remove (sayi) \n",
    "        repeatNumbers.append (sayi)\n",
    "\n",
    "\n",
    "print (\"Tekrar eden elemanlar:\" , repeatNumbers)\n",
    "print(\"Tekrar etmeyen elemanlar :\" ,uniqueNumbers)\n",
    "\n"
   ]
  },
  {
   "cell_type": "code",
   "execution_count": 55,
   "metadata": {},
   "outputs": [
    {
     "name": "stdout",
     "output_type": "stream",
     "text": [
      "Tekrar eden elemanlar: [10, 10, 15, 15, 15, 20, 20, 20, 20]\n",
      "Tekrar etmeyen elemanlar : [5]\n"
     ]
    }
   ],
   "source": [
    "numbers = [5,10,10,15,15,15,20,20,20,20]\n",
    "uniqueNumbers = []\n",
    "repeatNumbers =[]\n",
    "\n",
    "for sayi in numbers:\n",
    "    if numbers.count (sayi) == 1:\n",
    "        uniqueNumbers.append (sayi)\n",
    "    else:\n",
    "        repeatNumbers.append (sayi)\n",
    "        \n",
    "\n",
    "print (\"Tekrar eden elemanlar:\" , repeatNumbers)\n",
    "print(\"Tekrar etmeyen elemanlar :\" ,uniqueNumbers)"
   ]
  },
  {
   "cell_type": "markdown",
   "metadata": {},
   "source": [
    "# Problem 3\n",
    "sn1 = {1,2,3,4,5}\n",
    "\n",
    "sn2 = {4,5,6,7,8}\n",
    "\n",
    " Verilen 2 adet küme için kesişimlerini, farklarını ve birleşimlerini bulunuz. "
   ]
  },
  {
   "cell_type": "code",
   "execution_count": 4,
   "metadata": {},
   "outputs": [
    {
     "name": "stdout",
     "output_type": "stream",
     "text": [
      "Küme kesişimi: {4, 5}\n",
      "1. kümenin 2. kümeden farkı: {1, 2, 3}\n",
      "2. kümenin 1. kümeden farkı: {8, 6, 7}\n",
      "İki kümenin birleşimi: {1, 2, 3, 4, 5, 6, 7, 8}\n"
     ]
    }
   ],
   "source": [
    "sn1 = {1,2,3,4,5}\n",
    "sn2 = {4,5,6,7,8}\n",
    "print (\"Küme kesişimi:\", sn1.intersection (sn2))\n",
    "print (\"1. kümenin 2. kümeden farkı:\", sn1.difference (sn2))\n",
    "print (\"2. kümenin 1. kümeden farkı:\",  sn2.difference (sn1))\n",
    "print (\"İki kümenin birleşimi:\" ,  sn1.union(sn2))\n",
    "\n"
   ]
  },
  {
   "cell_type": "markdown",
   "metadata": {},
   "source": []
  },
  {
   "cell_type": "markdown",
   "metadata": {},
   "source": [
    "# Problem 4\n",
    "\n",
    "Buradaki işlemlerimizin tamamı stringler içindir. Aşağıda verilecek olan metodlar için kendinizin örnek yaratması gerekmektedir. \n",
    "\n",
    "Örneğin `upper` için `string` değişkeni oluştururken` k = \"BAC\"` şeklinde oluşturmayınız. Bunun yerine k değişkenini `k = \"bac`\" şeklinde oluşturmanız `upper` metodundaki değişimi görebilmeniz için daha iyi olacaktır.\n",
    "\n",
    "Bütün metodlardaki değişimin gözle görülür şekilde değişimi beklenmektedir.\n",
    "\n",
    "\n",
    "1- capitalize(), lower(), upper(), swapcase(), title(), replace()\n",
    "\n",
    "2- endswith(), startswith(), find(), index(), count()\n",
    "\n",
    "3- split(), strip(), join(), islower(), isalpha(), isdigit()\n",
    "\n",
    "\n",
    "Yukarıdaki `string` metodlarındaki değişimleri görebildiğimiz bir program yazınız.\n"
   ]
  },
  {
   "cell_type": "code",
   "execution_count": 39,
   "metadata": {},
   "outputs": [
    {
     "name": "stdout",
     "output_type": "stream",
     "text": [
      "123.45\n",
      "False\n",
      "False\n",
      "False\n"
     ]
    }
   ],
   "source": [
    "\"Brooks was here.\".capitalize()\n",
    "\"ZeYnEp\".lower()\n",
    "\"ZeYnEp\".upper()\n",
    "\"ZeYnEp\".swapcase()\n",
    "\"Zeynep Güler kim?\".title()\n",
    "sayi = \"123,45\".replace(\",\", \".\")\n",
    "print (sayi)\n",
    "\n",
    "zehra = \"kardeşim\"\n",
    "zehra.startswith(\"p\")\n",
    "zehra.endswith(\"a\")\n",
    "\n",
    "\"Brooks was here.\".find (\"o\")\n",
    "\"Brooks was here.\".index (\"w\")\n",
    "\"Brooks was here.\".count (\"a\")\n",
    "\n",
    "message = \"hi, girl.\"\n",
    "message= message.split(\",\")\n",
    "sayi.strip ()\n",
    "sayi.join (\"7\")\n",
    "print (sayi.isalpha())\n",
    "print (sayi.isdigit())\n",
    "print (sayi.islower())\n",
    "\n",
    "\n",
    "\n"
   ]
  }
 ],
 "metadata": {
  "kernelspec": {
   "display_name": "Python 3.10.5 64-bit",
   "language": "python",
   "name": "python3"
  },
  "language_info": {
   "codemirror_mode": {
    "name": "ipython",
    "version": 3
   },
   "file_extension": ".py",
   "mimetype": "text/x-python",
   "name": "python",
   "nbconvert_exporter": "python",
   "pygments_lexer": "ipython3",
   "version": "3.11.2"
  },
  "orig_nbformat": 4,
  "vscode": {
   "interpreter": {
    "hash": "5026d2d6e7aaaaba093def813beadff083d8733e4a511af01735cbabd156995d"
   }
  }
 },
 "nbformat": 4,
 "nbformat_minor": 2
}
