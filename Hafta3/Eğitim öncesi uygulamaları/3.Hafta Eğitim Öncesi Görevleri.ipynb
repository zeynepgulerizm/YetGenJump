{
  "cells": [
    {
      "cell_type": "markdown",
      "metadata": {
        "id": "tsD4YVAe_Te2"
      },
      "source": [
        "# Problem 1\n",
        "Bir sayının 7'ye bölünebilir olup olmadığını kontrol etmek \n",
        "için bir program yazın.\n",
        "\n",
        "İpucu: Mod operatörünü (%) kullanabilirsiniz."
      ]
    },
    {
      "cell_type": "code",
      "execution_count": 3,
      "metadata": {
        "id": "NGjvNwKx_Te7"
      },
      "outputs": [
        {
          "name": "stdout",
          "output_type": "stream",
          "text": [
            "True\n"
          ]
        }
      ],
      "source": [
        "x = int ( input (\"Bir sayı giriniz:\"))\n",
        "print (x % 7 == 0)"
      ]
    },
    {
      "cell_type": "markdown",
      "metadata": {
        "id": "Kg3qiBAI_Te8"
      },
      "source": [
        "# Problem 2\n",
        "Kullanıcıdan vize ve final notu isteyin. Girilen vize notunun %40’ı ve \n",
        "girilen finalnotunun ise %60’ı alınarak yıl sonu not ortalaması hesaplanacaktır. \n",
        "\n",
        "Bu not ortalaması eğer 85 ve üzeri ise AA, \n",
        "\n",
        "75 ve 85 arasında ise BA, \n",
        "\n",
        "70 ve 75 arasında ise BB, \n",
        "\n",
        "65 ve 70 arasında ise CB,\n",
        "\n",
        "60 ve 65 arasında ise CC,\n",
        "\n",
        "55 ve 60 arasında ise DC,\n",
        "\n",
        "50 ve 55 arasında ise DD olarak hesaplanacaktır. \n",
        "\n",
        "Bu öğrencinin yıl sonu toplam notu 50’nin altında ise FF ile dersten kalacaktır. \n",
        "\n",
        "Ayrıca öğrencinin final notu 50’nin altında ise direkt FF ile kalacaktır."
      ]
    },
    {
      "cell_type": "code",
      "execution_count": 21,
      "metadata": {
        "id": "MXTtCxI1_Te8"
      },
      "outputs": [
        {
          "name": "stdout",
          "output_type": "stream",
          "text": [
            "FF, kaldınız :(\n"
          ]
        }
      ],
      "source": [
        "vize = int (input (\"Vize notunuzu giriniz.\"))\n",
        "final = int (input (\"Final notunuzu giriniz\"))\n",
        "\n",
        "puanort = (vize * (40/100)) + ( final * (60/100))\n",
        "\n",
        "if puanort >= 85:\n",
        "    print ( \"Toplam harf notunuz: AA\")\n",
        "if 75 <= puanort < 85:\n",
        "    print (\"Toplam harf notunuz: BA\")\n",
        "if 70 <= puanort < 75:\n",
        "    print (\"Toplam harf notunuz: BB\")\n",
        "if 65 <= puanort < 70:\n",
        "    print (\"Toplam harf notunuz: CB\")  \n",
        "if 60 <= puanort < 65:\n",
        "    print (\"Toplam harf notunuz: CC\")\n",
        "if 55 <= puanort < 60:\n",
        "    print (\"Toplam harf notunuz: DC\")\n",
        "if 50 <= puanort < 55:\n",
        "    print (\"Toplam harf notunuz: DD\") \n",
        "if puanort < 50 or final < 50:\n",
        "    print (\"FF, kaldınız :(\")\n",
        "\n"
      ]
    },
    {
      "cell_type": "markdown",
      "metadata": {
        "id": "tAoRYCTC_Te8"
      },
      "source": [
        "# Problem 3\n",
        "İki YetGenli Zirve'de karşılaşıyorlar. Birbirlerini tanımak için sorular soruyorlar. Birbirlerine yaşlarını soruyorlar. Akıllarına bir Python programı yazıp, yaşlarını ve isimlerini giriyorlar. Büyük olanın yaşını ekrana yazdıran programı yazıyorlar. Sende bu iki YetGenli'ye destek olmak ister misin?\n",
        "\n",
        "```\n",
        "Birinci YetGenlinin ismi: Ahmet\n",
        "Birinci YetGenlinin yaşı : 20\n",
        "İkinci YetGenlinin ismi: Mehmet\n",
        "İkinci YetGenlinin yaşı : 25\n",
        "Mehmet'in yaşı daha büyük ve yaşı 25'tir.\n",
        "```"
      ]
    },
    {
      "cell_type": "code",
      "execution_count": 29,
      "metadata": {
        "id": "bPjE8W0i_Te8"
      },
      "outputs": [
        {
          "name": "stdout",
          "output_type": "stream",
          "text": [
            " Mehmet'in yaşı daha büyüktür ve yaşı 25'tir.\n"
          ]
        }
      ],
      "source": [
        "yetIsim1 = input ( \"Birinci Yetgenlinin ismini giriniz:\")\n",
        "yetYas1 = int ( input ( \"Birinci Yetgenlinin yaşını giriniz:\"))\n",
        "\n",
        "yetIsim2 =  input ( \"İkinci Yetgenlinin ismini giriniz:\")\n",
        "yetYas2 = int ( input ( \"İkinci Yetgenlinin yaşını giriniz:\"))\n",
        "\n",
        "if yetIsim1 > yetIsim2:\n",
        "     print (f\" {yetIsim1}'in yaşı daha büyüktür ve yaşı {yetYas1}'tir.\")\n",
        "if yetIsim2 >  yetIsim1:\n",
        "     print (f\" {yetIsim2}'in yaşı daha büyüktür ve yaşı {yetYas2}'tir.\")\n",
        "\n"
      ]
    },
    {
      "cell_type": "markdown",
      "metadata": {
        "id": "zBVv8Tyg_Te9"
      },
      "source": [
        "# Problem 4\n",
        "Pandemi döneminde AVM'lerde ateş ölçümü yapılıyor. AVM'ye giren kişinin ateş ölçümü 37.5 derecenin altında ise girişe izin veriliyor. 37.5 derecenin üstünde ise girişe izin verilmiyor. AVM'ye girişe izin verilip verilmediğini ekrana yazdıran bir program yazın.\n",
        "\n",
        "Program sonunda şöyle bir çıktı elde etmelisiniz:\n",
        "\n",
        "```\n",
        "Ateşiniz 37.5 derece. AVM'ye girebilirsin! Maske takmayı unutma!\n",
        "Ateşiniz 37.6 derece. AVM'ye giremezsin! Hemen evine dön!\n",
        "```"
      ]
    },
    {
      "cell_type": "code",
      "execution_count": 32,
      "metadata": {
        "id": "TSAXs8et_Te9"
      },
      "outputs": [
        {
          "name": "stdout",
          "output_type": "stream",
          "text": [
            " Ateşiniz 39.4 derecedir. AVM'ye giremezsiniz! Lütfen evinize dönün!\n"
          ]
        }
      ],
      "source": [
        "ates = float ( input (\"Ateş ölçümü sonucunu giriniz\"))\n",
        "\n",
        "if ates <= 37.5:\n",
        "    print (f\" Ateşiniz {ates} derecedir. AVM'ye girebilirsiniz! Maske takmayı unutmayınız!\")\n",
        "if ates > 37.5:\n",
        "    print (f\" Ateşiniz {ates} derecedir. AVM'ye giremezsiniz! Lütfen evinize dönün!\")"
      ]
    },
    {
      "cell_type": "markdown",
      "metadata": {
        "id": "6AEkZrDt_Te9"
      },
      "source": [
        "# Problem 5\n",
        "YetGen bir spor kulübüyle sponsorluk anlaşması yapıyor. Kulüp, sponsorluk anlaşmasına göre her YetGen liderinin beden kitle indeksini hesaplamak istiyor. Spor kulübü, beden kitle indeksini hesaplamak için YetGen Jump Python liderlerinden Berkcan ve Ahmet'i arıyor. Berkcan ve Ahmet, kulübe yardımcı olmak için bir Python programı yazıyorlar. Sende bu iki YetGen liderine destek olmak ister misin?\n",
        "\n",
        "Kullanıcıdan alınan boy ve kilo değerlerine göre beden kitle indeksini hesaplayın ve şu kurallara göre ekrana şu yazıları yazdırın.\n",
        "\n",
        "\n",
        "Beden Kitle İndeksi, kişinin ağırlığının (kg olarak) boyunun karesine (m olarak) bölünmesiyle hesaplanır.\n",
        "\n",
        "\n",
        "```\n",
        " BKİ 18.5'un altındaysa -------> Zayıf\n",
        "\n",
        " BKİ 18.5 ile 25 arasındaysa ------> Normal\n",
        "\n",
        " BKİ 25 ile 30 arasındaysa --------> Fazla Kilolu\n",
        "\n",
        " BKİ 30'un üstündeyse -------------> Obez\n",
        "```\n",
        "\n"
      ]
    },
    {
      "cell_type": "code",
      "execution_count": 34,
      "metadata": {
        "id": "t-XPI_u0_Te-"
      },
      "outputs": [
        {
          "name": "stdout",
          "output_type": "stream",
          "text": [
            "Zayıf\n"
          ]
        }
      ],
      "source": [
        "boy = int (input (\"Boyunuzu giriniz (cm):\")) \n",
        "kilo = int (input (\" Kilonuzu giriniz:\"))\n",
        "\n",
        "bki = kilo / ((boy/100)**2)\n",
        "\n",
        "if bki <= 18.5:\n",
        "    print (\"Zayıf\")\n",
        "if 18.5 < bki <= 25:\n",
        "    print (\"Normal\")\n",
        "if 25 < bki <= 30:\n",
        "    print (\"Fazla Kilolu\")\n",
        "if bki > 30:\n",
        "    print (\"Obez\")\n",
        "\n",
        "\n"
      ]
    },
    {
      "cell_type": "markdown",
      "metadata": {
        "id": "oFsvQyaO_Te-"
      },
      "source": [
        "# Problem 6\n",
        "Kullanıcıdan isim, yaş ve eğitim bilgilerini isteyip ehliyet alabilme  durumunu kontrol ediniz. \n",
        "\n",
        "Ehliyet alma koşulu en az 18 yaşında ve eğitim durumu lise ya da üniversite olmalıdır. "
      ]
    },
    {
      "cell_type": "code",
      "execution_count": 43,
      "metadata": {
        "id": "Tu2mcgco_Te-"
      },
      "outputs": [
        {
          "name": "stdout",
          "output_type": "stream",
          "text": [
            "Ehliyet alabilirsiniz.\n"
          ]
        }
      ],
      "source": [
        "isim = input (\"Lütfen isminizi giriniz:\")\n",
        "yas = int (input (\"Lütfen yaşınızı giriniz:\"))\n",
        "egitimDurumu = input (\"Lütfen eğitim durumunuzu belirtiniz.\")\n",
        "\n",
        "lise = True\n",
        "üniversite = True\n",
        "\n",
        "if yas >= 18 and egitimDurumu == lise or üniversite:\n",
        "    print (\"Ehliyet alabilirsiniz.\")\n",
        "else:\n",
        "    print(\"Ehliyet alma koşullarını sağlamıyorsunuz.\")"
      ]
    },
    {
      "cell_type": "markdown",
      "metadata": {
        "id": "eUkxVSAE_Te_"
      },
      "source": [
        "# Problem 7\n",
        "Bir yılın artık yıl olup olmadığını kontrol etmek için bir program yazın. \n",
        "Artık yıl kuralı:\n",
        "\n",
        "a) Eğer yılın son iki basamağı (00) ile bitmiyor ve yalnızca 4'e tam bölünüyorsa artık yıldır. Ya da, \n",
        "\n",
        "b) Eğer yıl 400'e tam bölünüyorsa artık yıldır.\n",
        "\n",
        "**Örneğin**\n",
        "```\n",
        "2017 artık yıl değildir.\n",
        "1900 artık yıl değildir\n",
        "2012 artık yıldır.\n",
        "2000 artık yıldır.\n",
        "```"
      ]
    },
    {
      "cell_type": "code",
      "execution_count": 67,
      "metadata": {
        "id": "4uWh8qUL_Te_"
      },
      "outputs": [
        {
          "name": "stdout",
          "output_type": "stream",
          "text": [
            " 2000 artık yıldır.\n"
          ]
        }
      ],
      "source": [
        "yil = int ( input (\" Yıl giriniz:\"))\n",
        "if yil % 100 != 0  and yil % 4 == 0 or yil % 400 ==0:\n",
        "    print (f\" {yil} artık yıldır.\")\n",
        "else:\n",
        "    print (f\" {yil} artık yıl değildir.\")"
      ]
    }
  ],
  "metadata": {
    "colab": {
      "provenance": []
    },
    "kernelspec": {
      "display_name": "Python 3.10.5 64-bit",
      "language": "python",
      "name": "python3"
    },
    "language_info": {
      "codemirror_mode": {
        "name": "ipython",
        "version": 3
      },
      "file_extension": ".py",
      "mimetype": "text/x-python",
      "name": "python",
      "nbconvert_exporter": "python",
      "pygments_lexer": "ipython3",
      "version": "3.11.2"
    },
    "orig_nbformat": 4,
    "vscode": {
      "interpreter": {
        "hash": "5026d2d6e7aaaaba093def813beadff083d8733e4a511af01735cbabd156995d"
      }
    }
  },
  "nbformat": 4,
  "nbformat_minor": 0
}
