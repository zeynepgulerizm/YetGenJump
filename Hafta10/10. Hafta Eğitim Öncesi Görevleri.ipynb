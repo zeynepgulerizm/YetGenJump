{
 "cells": [
  {
   "attachments": {},
   "cell_type": "markdown",
   "metadata": {},
   "source": [
    "# Problem 1"
   ]
  },
  {
   "cell_type": "code",
   "execution_count": 3,
   "metadata": {},
   "outputs": [],
   "source": [
    "# 1 - numpy kütüphanesini import edin\n",
    "\n",
    "# 2 - 0 ile 10 arasında 5 sayıdan oluşan matris üretin\n",
    "\n",
    "# 3 - matris'in boyutunu öğrenin\n",
    "\n",
    "# 4 - matris'i yeniden boyutlandırın\n",
    "\n",
    "# 5 - matris'in boyut sayısını öğrenin\n"
   ]
  },
  {
   "cell_type": "code",
   "execution_count": 1,
   "metadata": {},
   "outputs": [
    {
     "name": "stdout",
     "output_type": "stream",
     "text": [
      "ilk üretilen matris: [5 3 1 5 3]\n",
      "ilk boyut sayısı: 1\n",
      "İkinci üretilen matris: [[5 3 1 5 3]]\n",
      "ikinci boyut sayısı: 2\n"
     ]
    }
   ],
   "source": [
    "import numpy as np\n",
    "a=np.random.randint(0,10,5)\n",
    "print(\"ilk üretilen matris:\",a)\n",
    "print(\"ilk boyut sayısı:\",a.ndim)\n",
    "multi=a.reshape(1,5) \n",
    "print(\"İkinci üretilen matris:\",multi)\n",
    "print(\"ikinci boyut sayısı:\",multi.ndim)"
   ]
  },
  {
   "attachments": {},
   "cell_type": "markdown",
   "metadata": {},
   "source": [
    "# Problem 2"
   ]
  },
  {
   "cell_type": "code",
   "execution_count": null,
   "metadata": {},
   "outputs": [],
   "source": [
    "# 1 - 0 ile 10 arasında bulunan tek sayılardan oluşan matris üretin\n",
    "\n",
    "# 2 - Oluşturduğunuz matrisi parçalayın\n",
    "\n",
    "# 3 - Parçalanmış matrisleri birleştirin\n"
   ]
  },
  {
   "cell_type": "code",
   "execution_count": 2,
   "metadata": {},
   "outputs": [
    {
     "name": "stdout",
     "output_type": "stream",
     "text": [
      "matrisin ilk hali: [1 3 5 7 9]\n",
      "üst matris: [1 3 5]\n",
      "alt matris: [7 9]\n",
      "[1 3 5 7 9]\n"
     ]
    }
   ],
   "source": [
    "import numpy as np\n",
    "x=np.arange(1,10,2)\n",
    "print(\"matrisin ilk hali:\",x)\n",
    "üstmatris,altmatris=np.split(x,[3],axis=0)\n",
    "print(\"üst matris:\",üstmatris)\n",
    "print(\"alt matris:\",altmatris)\n",
    "tümmatris=np.concatenate((üstmatris,altmatris),axis=0)\n",
    "print(tümmatris)"
   ]
  },
  {
   "cell_type": "code",
   "execution_count": 3,
   "metadata": {},
   "outputs": [],
   "source": [
    "# 1 - 5 ile 100 arasında ikişer ikişer atlayarak rastgele 10 sayıdan oluşan matris üretin\n",
    "\n",
    "# 2 - matris'in özelliklerini inceleyin\n"
   ]
  },
  {
   "cell_type": "code",
   "execution_count": null,
   "metadata": {},
   "outputs": [],
   "source": [
    "import numpy as np\n",
    "x=np.arange(5,100,2)\n",
    "a=np.random.choice(x,size=10, replace=False)\n",
    "print(\"Oluşturulan matris:\",a)\n",
    "print(\"Matrisin bpyut sayısı:\",a.ndim)\n",
    "print(\"Matrisin boyut bilgisi:\",a.shape)\n",
    "print(\"Matrisin eleman sayısı:\",a.size)\n",
    "print(\"Matrisin veri tipi:\",a.dtype)"
   ]
  }
 ],
 "metadata": {
  "kernelspec": {
   "display_name": "Python 3",
   "language": "python",
   "name": "python3"
  },
  "language_info": {
   "codemirror_mode": {
    "name": "ipython",
    "version": 3
   },
   "file_extension": ".py",
   "mimetype": "text/x-python",
   "name": "python",
   "nbconvert_exporter": "python",
   "pygments_lexer": "ipython3",
   "version": "3.11.2"
  },
  "orig_nbformat": 4,
  "vscode": {
   "interpreter": {
    "hash": "5026d2d6e7aaaaba093def813beadff083d8733e4a511af01735cbabd156995d"
   }
  }
 },
 "nbformat": 4,
 "nbformat_minor": 2
}
